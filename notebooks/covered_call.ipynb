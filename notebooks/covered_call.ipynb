{
 "cells": [
  {
   "cell_type": "code",
   "execution_count": 61,
   "metadata": {},
   "outputs": [],
   "source": [
    "import csv\n",
    "import os\n",
    "from datetime import datetime\n",
    "import math\n",
    "import matplotlib.pyplot as plt"
   ]
  },
  {
   "cell_type": "code",
   "execution_count": 62,
   "metadata": {},
   "outputs": [],
   "source": [
    "options_dir = '../data/options_data'\n",
    "for ticker in os.listdir(options_dir):\n",
    "    ticker_dir = options_dir + '/' + ticker\n",
    "    call_files = []\n",
    "    for file in os.listdir(ticker_dir):\n",
    "        file_heruistics = file.split('_')\n",
    "        strike = file_heruistics[2].split('-', 1)\n",
    "        expiry_date = datetime.strptime(file_heruistics[1], '%Y%m%d').date()\n",
    "\n",
    "        if 'c' in strike[0].replace('.csv', ''):\n",
    "            call_files.append((file, expiry_date))\n",
    "\n",
    "    call_files.sort(key=lambda contract: contract[1])\n",
    "\n",
    "    #implement covered call strategy\n",
    "    balance = 100000\n",
    "    ownUnderlying = False\n",
    "    underlyingQuantity = 0 # in hundreds\n",
    "\n",
    "    csv_data = []\n",
    "\n",
    "    for file, expiry_date in call_files:\n",
    "        with open(os.path.join(ticker_dir, file), 'r') as f:\n",
    "            strike_csv = csv.reader(f)\n",
    "            row = list(strike_csv)\n",
    "\n",
    "            for index, line in reversed(list(enumerate(row[0:len(row)-1]))):\n",
    "                date = datetime.strptime(line[0], '%m/%d/%Y').date()\n",
    "                if date.month == expiry_date.month:\n",
    "                    start_open = float(row[index][1])\n",
    "                    strike_price = float(row[index][16])\n",
    "                    start_price = float(row[index][15])\n",
    "                    end_price = float(row[1][15])\n",
    "                    break\n",
    "\n",
    "            # buy shares by the even hundreds + subtract balance\n",
    "            if ownUnderlying == False:\n",
    "                underlyingQuantity = math.floor(balance/(start_price * 100))\n",
    "                balance -= (start_price * 100) * underlyingQuantity\n",
    "                ownUnderlying = True\n",
    "\n",
    "            # calculate profit of selling contract and add to balance\n",
    "            contract_profit = underlyingQuantity * start_open * 100\n",
    "            balance += contract_profit\n",
    "\n",
    "            total_balance = balance + (underlyingQuantity * 100 * end_price)\n",
    "\n",
    "            # obtain 'results'\n",
    "            net_percentage = ((total_balance - 100000) / 100000) * 100\n",
    "            net_return = total_balance - 100000\n",
    "\n",
    "            csv_data.append([expiry_date, date, strike_price, start_price, end_price, start_open, underlyingQuantity, contract_profit, total_balance, net_percentage, net_return])\n",
    "\n",
    "            # compare end asset price to strike price\n",
    "            if end_price >= strike_price:\n",
    "                stockSale = underlyingQuantity * 100 * end_price\n",
    "                balance += stockSale\n",
    "\n",
    "                ownUnderlying = False\n",
    "                underlyingQuantity = 0\n",
    "\n",
    "    with open('../data/outputs/covered_call/' + ticker + '.csv', 'w', newline=\"\") as f:\n",
    "        writer = csv.writer(f)\n",
    "\n",
    "        header = ['Expiration Date', 'Date Contact Sold', 'Strike Price', 'Starting asset price', 'Ending Asset Price', 'Price Per Contract', 'Contracts Sold', 'Contract Profit', 'Monthly Ending Balance', 'Percent Change', 'Profit Amount']\n",
    "        writer.writerow(header)\n",
    "\n",
    "        for row in csv_data:\n",
    "            writer.writerow(row)"
   ]
  },
  {
   "cell_type": "code",
   "execution_count": 63,
   "metadata": {},
   "outputs": [
    {
     "name": "stdout",
     "output_type": "stream",
     "text": [
      "F.csv\n",
      "data points: 22\n",
      "x-axis values: ['11/2019', '12/2019', '1/2020', '2/2020', '3/2020', '4/2020', '5/2020', '6/2020', '7/2020', '8/2020', '9/2020', '10/2020', '11/2020', '12/2020', '1/2021', '2/2021', '3/2021', '4/2021', '5/2021', '6/2021', '7/2021', '8/2021']\n",
      "y-axis values: [101120.0, 109520.0, 110796.0, 100095.0, 59751.0, 73650.0, 77524.0, 103897.0, 123792.0, 129157.0, 144844.0, 171594.0, 206670.0, 209569.0, 232538.0, 259716.0, 287364.0, 302468.0, 357848.0, 361704.0, 349895.0, 337122.0]\n",
      "y2-axis vals: ['97685.19', '63888.89', '50810.19', '61458.33', '71990.74', '68171.3', '33564.81', '41782.41', '35416.67', '21875.0', '1736.11', '5092.59', '-10532.41', '-22916.67', '-21064.81', '-23495.37', '-29629.63', '-33912.04', '-41087.96', '-44097.22', '-19444.44', '2083.33', '7638.89', '4861.11']\n"
     ]
    },
    {
     "ename": "ValueError",
     "evalue": "x and y must have same first dimension, but have shapes (22,) and (24,)",
     "output_type": "error",
     "traceback": [
      "\u001b[0;31m---------------------------------------------------------------------------\u001b[0m",
      "\u001b[0;31mValueError\u001b[0m                                Traceback (most recent call last)",
      "\u001b[0;32m/var/folders/cz/b0f5b6ns7nx7l8wmlcc4rs_h0000gn/T/ipykernel_10327/967666338.py\u001b[0m in \u001b[0;36m<module>\u001b[0;34m\u001b[0m\n\u001b[1;32m     39\u001b[0m     \u001b[0mfigure\u001b[0m\u001b[0;34m,\u001b[0m \u001b[0maxis\u001b[0m \u001b[0;34m=\u001b[0m  \u001b[0mplt\u001b[0m\u001b[0;34m.\u001b[0m\u001b[0msubplots\u001b[0m\u001b[0;34m(\u001b[0m\u001b[0;34m)\u001b[0m\u001b[0;34m\u001b[0m\u001b[0;34m\u001b[0m\u001b[0m\n\u001b[1;32m     40\u001b[0m     \u001b[0maxis\u001b[0m\u001b[0;34m.\u001b[0m\u001b[0mplot\u001b[0m\u001b[0;34m(\u001b[0m\u001b[0mx1\u001b[0m\u001b[0;34m,\u001b[0m \u001b[0my1\u001b[0m\u001b[0;34m,\u001b[0m \u001b[0mcolor\u001b[0m\u001b[0;34m=\u001b[0m\u001b[0;34m'red'\u001b[0m\u001b[0;34m,\u001b[0m \u001b[0mmarker\u001b[0m\u001b[0;34m=\u001b[0m\u001b[0;34m'o'\u001b[0m\u001b[0;34m)\u001b[0m\u001b[0;34m\u001b[0m\u001b[0;34m\u001b[0m\u001b[0m\n\u001b[0;32m---> 41\u001b[0;31m     \u001b[0maxis\u001b[0m\u001b[0;34m.\u001b[0m\u001b[0mplot\u001b[0m\u001b[0;34m(\u001b[0m\u001b[0mx1\u001b[0m\u001b[0;34m,\u001b[0m \u001b[0my2\u001b[0m\u001b[0;34m,\u001b[0m \u001b[0mcolor\u001b[0m\u001b[0;34m=\u001b[0m\u001b[0;34m'blue'\u001b[0m\u001b[0;34m,\u001b[0m \u001b[0mmarker\u001b[0m\u001b[0;34m=\u001b[0m\u001b[0;34m'o'\u001b[0m\u001b[0;34m)\u001b[0m\u001b[0;34m\u001b[0m\u001b[0;34m\u001b[0m\u001b[0m\n\u001b[0m\u001b[1;32m     42\u001b[0m     \u001b[0maxis\u001b[0m\u001b[0;34m.\u001b[0m\u001b[0mset_xlabel\u001b[0m\u001b[0;34m(\u001b[0m\u001b[0;34m\"Month\"\u001b[0m\u001b[0;34m,\u001b[0m \u001b[0mfontsize\u001b[0m\u001b[0;34m=\u001b[0m\u001b[0;36m14\u001b[0m\u001b[0;34m)\u001b[0m\u001b[0;34m\u001b[0m\u001b[0;34m\u001b[0m\u001b[0m\n\u001b[1;32m     43\u001b[0m     \u001b[0maxis\u001b[0m\u001b[0;34m.\u001b[0m\u001b[0mset_ylabel\u001b[0m\u001b[0;34m(\u001b[0m\u001b[0;34m\"Portfolio Balance\"\u001b[0m\u001b[0;34m,\u001b[0m \u001b[0mfontsize\u001b[0m\u001b[0;34m=\u001b[0m\u001b[0;36m14\u001b[0m\u001b[0;34m)\u001b[0m\u001b[0;34m\u001b[0m\u001b[0;34m\u001b[0m\u001b[0m\n",
      "\u001b[0;32m/opt/homebrew/Caskroom/miniforge/base/lib/python3.9/site-packages/matplotlib/axes/_axes.py\u001b[0m in \u001b[0;36mplot\u001b[0;34m(self, scalex, scaley, data, *args, **kwargs)\u001b[0m\n\u001b[1;32m   1630\u001b[0m         \"\"\"\n\u001b[1;32m   1631\u001b[0m         \u001b[0mkwargs\u001b[0m \u001b[0;34m=\u001b[0m \u001b[0mcbook\u001b[0m\u001b[0;34m.\u001b[0m\u001b[0mnormalize_kwargs\u001b[0m\u001b[0;34m(\u001b[0m\u001b[0mkwargs\u001b[0m\u001b[0;34m,\u001b[0m \u001b[0mmlines\u001b[0m\u001b[0;34m.\u001b[0m\u001b[0mLine2D\u001b[0m\u001b[0;34m)\u001b[0m\u001b[0;34m\u001b[0m\u001b[0;34m\u001b[0m\u001b[0m\n\u001b[0;32m-> 1632\u001b[0;31m         \u001b[0mlines\u001b[0m \u001b[0;34m=\u001b[0m \u001b[0;34m[\u001b[0m\u001b[0;34m*\u001b[0m\u001b[0mself\u001b[0m\u001b[0;34m.\u001b[0m\u001b[0m_get_lines\u001b[0m\u001b[0;34m(\u001b[0m\u001b[0;34m*\u001b[0m\u001b[0margs\u001b[0m\u001b[0;34m,\u001b[0m \u001b[0mdata\u001b[0m\u001b[0;34m=\u001b[0m\u001b[0mdata\u001b[0m\u001b[0;34m,\u001b[0m \u001b[0;34m**\u001b[0m\u001b[0mkwargs\u001b[0m\u001b[0;34m)\u001b[0m\u001b[0;34m]\u001b[0m\u001b[0;34m\u001b[0m\u001b[0;34m\u001b[0m\u001b[0m\n\u001b[0m\u001b[1;32m   1633\u001b[0m         \u001b[0;32mfor\u001b[0m \u001b[0mline\u001b[0m \u001b[0;32min\u001b[0m \u001b[0mlines\u001b[0m\u001b[0;34m:\u001b[0m\u001b[0;34m\u001b[0m\u001b[0;34m\u001b[0m\u001b[0m\n\u001b[1;32m   1634\u001b[0m             \u001b[0mself\u001b[0m\u001b[0;34m.\u001b[0m\u001b[0madd_line\u001b[0m\u001b[0;34m(\u001b[0m\u001b[0mline\u001b[0m\u001b[0;34m)\u001b[0m\u001b[0;34m\u001b[0m\u001b[0;34m\u001b[0m\u001b[0m\n",
      "\u001b[0;32m/opt/homebrew/Caskroom/miniforge/base/lib/python3.9/site-packages/matplotlib/axes/_base.py\u001b[0m in \u001b[0;36m__call__\u001b[0;34m(self, data, *args, **kwargs)\u001b[0m\n\u001b[1;32m    310\u001b[0m                 \u001b[0mthis\u001b[0m \u001b[0;34m+=\u001b[0m \u001b[0margs\u001b[0m\u001b[0;34m[\u001b[0m\u001b[0;36m0\u001b[0m\u001b[0;34m]\u001b[0m\u001b[0;34m,\u001b[0m\u001b[0;34m\u001b[0m\u001b[0;34m\u001b[0m\u001b[0m\n\u001b[1;32m    311\u001b[0m                 \u001b[0margs\u001b[0m \u001b[0;34m=\u001b[0m \u001b[0margs\u001b[0m\u001b[0;34m[\u001b[0m\u001b[0;36m1\u001b[0m\u001b[0;34m:\u001b[0m\u001b[0;34m]\u001b[0m\u001b[0;34m\u001b[0m\u001b[0;34m\u001b[0m\u001b[0m\n\u001b[0;32m--> 312\u001b[0;31m             \u001b[0;32myield\u001b[0m \u001b[0;32mfrom\u001b[0m \u001b[0mself\u001b[0m\u001b[0;34m.\u001b[0m\u001b[0m_plot_args\u001b[0m\u001b[0;34m(\u001b[0m\u001b[0mthis\u001b[0m\u001b[0;34m,\u001b[0m \u001b[0mkwargs\u001b[0m\u001b[0;34m)\u001b[0m\u001b[0;34m\u001b[0m\u001b[0;34m\u001b[0m\u001b[0m\n\u001b[0m\u001b[1;32m    313\u001b[0m \u001b[0;34m\u001b[0m\u001b[0m\n\u001b[1;32m    314\u001b[0m     \u001b[0;32mdef\u001b[0m \u001b[0mget_next_color\u001b[0m\u001b[0;34m(\u001b[0m\u001b[0mself\u001b[0m\u001b[0;34m)\u001b[0m\u001b[0;34m:\u001b[0m\u001b[0;34m\u001b[0m\u001b[0;34m\u001b[0m\u001b[0m\n",
      "\u001b[0;32m/opt/homebrew/Caskroom/miniforge/base/lib/python3.9/site-packages/matplotlib/axes/_base.py\u001b[0m in \u001b[0;36m_plot_args\u001b[0;34m(self, tup, kwargs, return_kwargs)\u001b[0m\n\u001b[1;32m    496\u001b[0m \u001b[0;34m\u001b[0m\u001b[0m\n\u001b[1;32m    497\u001b[0m         \u001b[0;32mif\u001b[0m \u001b[0mx\u001b[0m\u001b[0;34m.\u001b[0m\u001b[0mshape\u001b[0m\u001b[0;34m[\u001b[0m\u001b[0;36m0\u001b[0m\u001b[0;34m]\u001b[0m \u001b[0;34m!=\u001b[0m \u001b[0my\u001b[0m\u001b[0;34m.\u001b[0m\u001b[0mshape\u001b[0m\u001b[0;34m[\u001b[0m\u001b[0;36m0\u001b[0m\u001b[0;34m]\u001b[0m\u001b[0;34m:\u001b[0m\u001b[0;34m\u001b[0m\u001b[0;34m\u001b[0m\u001b[0m\n\u001b[0;32m--> 498\u001b[0;31m             raise ValueError(f\"x and y must have same first dimension, but \"\n\u001b[0m\u001b[1;32m    499\u001b[0m                              f\"have shapes {x.shape} and {y.shape}\")\n\u001b[1;32m    500\u001b[0m         \u001b[0;32mif\u001b[0m \u001b[0mx\u001b[0m\u001b[0;34m.\u001b[0m\u001b[0mndim\u001b[0m \u001b[0;34m>\u001b[0m \u001b[0;36m2\u001b[0m \u001b[0;32mor\u001b[0m \u001b[0my\u001b[0m\u001b[0;34m.\u001b[0m\u001b[0mndim\u001b[0m \u001b[0;34m>\u001b[0m \u001b[0;36m2\u001b[0m\u001b[0;34m:\u001b[0m\u001b[0;34m\u001b[0m\u001b[0;34m\u001b[0m\u001b[0m\n",
      "\u001b[0;31mValueError\u001b[0m: x and y must have same first dimension, but have shapes (22,) and (24,)"
     ]
    },
    {
     "data": {
      "image/png": "[encoded data removed]",
      "text/plain": [
       "<Figure size 432x288 with 1 Axes>"
      ]
     },
     "metadata": {
      "needs_background": "light"
     },
     "output_type": "display_data"
    }
   ],
   "source": [
    "# graph results using matlab pyplot\n",
    "\n",
    "outputs = '../data/outputs/covered_call/'\n",
    "historical_outputs = '../data/outputs/historical_returns/'\n",
    "files = [f for f in os.listdir(outputs) if os.path.isfile(os.path.join(outputs, f))]\n",
    "\n",
    "for file in files:\n",
    "    with open(os.path.join(outputs, file), 'r') as f:\n",
    "        output_csv = csv.reader(f)\n",
    "        rows = list(output_csv)\n",
    "        \n",
    "        profits = []\n",
    "        monthly_balance = []\n",
    "        months = []\n",
    "        long_monthly_bal = []\n",
    "\n",
    "        for line in rows[1:]:\n",
    "            profits.append(round(float(line[10]), 2))\n",
    "            monthly_balance.append(round(float(line[8]),2))\n",
    "            date = datetime.strptime(line[0], \"%Y-%m-%d\").date()\n",
    "            months.append(str(date.month) + '/' + str(date.year))\n",
    "\n",
    "    with open(os.path.join(historical_outputs, file), 'r') as f:\n",
    "        output_csv = csv.reader(f)\n",
    "        rows = list(output_csv)\n",
    "        for line in rows[1:]:\n",
    "            long_monthly_bal.append(line[5])\n",
    "    \n",
    "    print(file)\n",
    "    print(\"data points: \" + str(len(monthly_balance)))\n",
    "    print('x-axis values: ' + str(months))\n",
    "    print('y-axis values: ' + str(monthly_balance))\n",
    "    print('y2-axis vals: ' + str(long_monthly_bal))\n",
    "\n",
    "    x1 = months\n",
    "    y1 = monthly_balance\n",
    "    y2 = long_monthly_bal\n",
    "\n",
    "    figure, axis =  plt.subplots()\n",
    "    axis.plot(x1, y1, color='red', marker='o')\n",
    "    axis.plot(x1, y2, color='blue', marker='o')\n",
    "    axis.set_xlabel(\"Month\", fontsize=14)\n",
    "    axis.set_ylabel(\"Portfolio Balance\", fontsize=14)\n",
    "    figure.set_figheight(10)\n",
    "    figure.set_figwidth(20)\n",
    "    axis.set_title(file.replace('.csv', '') + ' Balance v Time')\n",
    "\n",
    "    figure.savefig('../data/outputs/covered_call/graphs/' + file.replace('.csv', '') + '_balance_v_time.jpg')\n",
    "        \n"
   ]
  }
 ],
 "metadata": {
  "interpreter": {
   "hash": "c6e4e9f98eb68ad3b7c296f83d20e6de614cb42e90992a65aa266555a3137d0d"
  },
  "kernelspec": {
   "display_name": "Python 3.9.7 64-bit ('base': conda)",
   "language": "python",
   "name": "python3"
  },
  "language_info": {
   "codemirror_mode": {
    "name": "ipython",
    "version": 3
   },
   "file_extension": ".py",
   "mimetype": "text/x-python",
   "name": "python",
   "nbconvert_exporter": "python",
   "pygments_lexer": "ipython3",
   "version": "3.9.7"
  },
  "orig_nbformat": 4
 },
 "nbformat": 4,
 "nbformat_minor": 2
}
