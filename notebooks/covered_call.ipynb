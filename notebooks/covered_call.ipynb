{
 "cells": [
  {
   "cell_type": "code",
   "execution_count": 61,
   "metadata": {},
   "outputs": [],
   "source": [
    "import csv\n",
    "import os\n",
    "from datetime import datetime\n",
    "import math\n",
    "import matplotlib.pyplot as plt"
   ]
  },
  {
   "cell_type": "code",
   "execution_count": 49,
   "metadata": {},
   "outputs": [
    {
     "name": "stdout",
     "output_type": "stream",
     "text": [
      "price-history-for-msft_20210924_300.00c-11-20-2021.csv\n",
      "price-history-for-msft_20210528_250.00c-11-20-2021.csv\n",
      "price-history-for-msft_20200327_160.00c-11-20-2021.csv\n",
      "price-history-for-msft_20201030_210.00c-11-20-2021.csv\n",
      "price-history-for-msft_20201224_215.00c-11-20-2021.csv\n",
      "msft_20200424_160.00c.csv\n",
      "price-history-for-msft_20200626_185.00c-11-20-2021.csv\n",
      "price-history-for-msft_20210129_220.00c-11-20-2021.csv\n",
      "price-history-for-msft_20200131_155.00c-11-20-2021.csv\n",
      "price-history-for-msft_20210827_290.00c-11-20-2021.csv\n",
      "price-history-for-msft_20200828_215.00c-11-20-2021.csv\n",
      "price-history-for-msft_20200228_165.00c-11-20-2021.csv\n",
      "price-history-for-msft_20210730_275.00c-11-20-2021.csv\n",
      "price-history-for-msft_20210326_235.00c-11-20-2021.csv\n",
      "msft_20191227_150.00c.csv\n",
      "price-history-for-msft_20210226_240.00c-11-20-2021.csv\n",
      "price-history-for-msft_20201127_205.00c-11-20-2021.csv\n",
      "price-history-for-msft_20210625_250.00c-11-20-2021.csv\n",
      "historical-data-download-msft_20200925_225.00c-11-20-2021.csv\n",
      "price-history-for-msft_20210430_245.00c-11-20-2021.csv\n",
      "msft_20211029_290.00c.csv\n",
      "price-history-for-msft_20200529_170.00c-11-20-2021.csv\n"
     ]
    }
   ],
   "source": [
    "call_files = []\n",
    "\n",
    "options_dir = '../data/options_data'\n",
    "for directory in os.listdir(options_dir):\n",
    "    for file in os.listdir(options_dir + '/' + directory):\n",
    "        file_heruistics = file.split('_')\n",
    "        strike = file_heruistics[2].split('-', 1)\n",
    "\n",
    "        if 'c' in strike[0].replace('.csv', ''):\n",
    "            call_files.append(file)\n",
    "\n",
    "print(str(call_files))"
   ]
  },
  {
   "cell_type": "code",
   "execution_count": 57,
   "metadata": {},
   "outputs": [
    {
     "name": "stdout",
     "output_type": "stream",
     "text": [
      "['msft_20191227_150.00c.csv', 'price-history-for-msft_20200131_155.00c-11-20-2021.csv', 'price-history-for-msft_20200228_165.00c-11-20-2021.csv', 'price-history-for-msft_20200327_160.00c-11-20-2021.csv', 'msft_20200424_160.00c.csv', 'price-history-for-msft_20200529_170.00c-11-20-2021.csv', 'price-history-for-msft_20200626_185.00c-11-20-2021.csv', 'price-history-for-msft_20200828_215.00c-11-20-2021.csv', 'historical-data-download-msft_20200925_225.00c-11-20-2021.csv', 'price-history-for-msft_20201030_210.00c-11-20-2021.csv', 'price-history-for-msft_20201127_205.00c-11-20-2021.csv', 'price-history-for-msft_20201224_215.00c-11-20-2021.csv', 'price-history-for-msft_20210129_220.00c-11-20-2021.csv', 'price-history-for-msft_20210226_240.00c-11-20-2021.csv', 'price-history-for-msft_20210326_235.00c-11-20-2021.csv', 'price-history-for-msft_20210430_245.00c-11-20-2021.csv', 'price-history-for-msft_20210528_250.00c-11-20-2021.csv', 'price-history-for-msft_20210625_250.00c-11-20-2021.csv', 'price-history-for-msft_20210730_275.00c-11-20-2021.csv', 'price-history-for-msft_20210827_290.00c-11-20-2021.csv', 'price-history-for-msft_20210924_300.00c-11-20-2021.csv', 'msft_20211029_290.00c.csv']\n"
     ]
    }
   ],
   "source": [
    "call_files.sort(key=lambda date: datetime.strptime(date.split('_')[1], '%Y%m%d').date())\n",
    "print(str(call_files))"
   ]
  },
  {
   "cell_type": "code",
   "execution_count": 68,
   "metadata": {},
   "outputs": [],
   "source": [
    "balance = 100000\n",
    "ownUnderlying = False\n",
    "underlyingQualtity = 0 # in hundreds\n",
    "\n",
    "for file in call_files:\n",
    "    with open(os.path.join('../data/options_data/MSFT/', file), 'r') as f:\n",
    "        strike_csv = csv.reader(f)\n",
    "        row = list(strike_csv)\n",
    "        \n",
    "        start_open = float(row[len(row)-2][1])\n",
    "        strike_price = float(row[len(row)-2][16])\n",
    "        start_price = float(row[len(row)-2][15])\n",
    "        end_price = float(row[1][16])\n",
    "\n",
    "        # buy shares by the even hundreds + subtract balance\n",
    "        if ownUnderlying == False:\n",
    "            underlyingQualtity = math.floor(balance/(start_price * 100))\n",
    "            balance -= (start_price * 100) * underlyingQualtity\n",
    "            ownUnderlying = True\n",
    "\n",
    "        # calculate profit of selling contract and add to balance\n",
    "        profit = underlyingQualtity * start_open * 100\n",
    "        balance += profit\n",
    "\n",
    "        # compare end asset price to strike price\n",
    "        if end_price >= strike_price:\n",
    "            stockSale = underlyingQualtity * end_price\n",
    "            balance += stockSale\n",
    "\n",
    "            ownUnderlying = False\n",
    "            underlyingQualtity = 0\n"
   ]
  },
  {
   "cell_type": "code",
   "execution_count": null,
   "metadata": {},
   "outputs": [],
   "source": []
  }
 ],
 "metadata": {
  "interpreter": {
   "hash": "c6e4e9f98eb68ad3b7c296f83d20e6de614cb42e90992a65aa266555a3137d0d"
  },
  "kernelspec": {
   "display_name": "Python 3.9.7 64-bit ('base': conda)",
   "language": "python",
   "name": "python3"
  },
  "language_info": {
   "codemirror_mode": {
    "name": "ipython",
    "version": 3
   },
   "file_extension": ".py",
   "mimetype": "text/x-python",
   "name": "python",
   "nbconvert_exporter": "python",
   "pygments_lexer": "ipython3",
   "version": "3.9.7"
  },
  "orig_nbformat": 4
 },
 "nbformat": 4,
 "nbformat_minor": 2
}
