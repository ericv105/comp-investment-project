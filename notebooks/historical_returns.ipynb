{
 "cells": [
  {
   "cell_type": "code",
   "execution_count": 13,
   "metadata": {},
   "outputs": [],
   "source": [
    "import csv\n",
    "import os\n"
   ]
  },
  {
   "cell_type": "code",
   "execution_count": 55,
   "metadata": {},
   "outputs": [
    {
     "name": "stdout",
     "output_type": "stream",
     "text": [
      "['AMD', 38.94, 146.49, 276.19414483821265, 27619414.483821265]\n",
      "['AAPL', 65.92, 150.0, 127.54854368932038, 12754854.368932039]\n",
      "['BBBY', 13.94, 21.58, 54.806312769010034, 5480631.276901004]\n",
      "['F', 8.85, 19.86, 124.40677966101694, 12440677.966101695]\n",
      "['GM', 37.0, 62.97, 70.18918918918918, 7018918.918918918]\n",
      "['M', 16.49, 31.05, 88.29593693147363, 8829593.693147363]\n",
      "['MSFT', 148.93, 336.07, 125.6563486201571, 12565634.862015711]\n",
      "['PFE', 34.72, 49.65, 43.00115207373272, 4300115.207373272]\n",
      "['QCOM', 92.6, 168.51, 81.97624190064795, 8197624.190064795]\n",
      "['SPX', 3107.92, 4682.8, 50.67311899920204, 5067311.899920204]\n",
      "['STZ', 182.94, 228.82, 25.07926095987755, 2507926.0959877553]\n"
     ]
    }
   ],
   "source": [
    "data = []\n",
    "\n",
    "price_dir = '../data/price_data'\n",
    "for file in os.listdir(price_dir):\n",
    "\n",
    "    with open(os.path.join(price_dir, file), 'r') as f:\n",
    "        data_csv = csv.reader(f)\n",
    "        row = list(data_csv)\n",
    "\n",
    "        ticker = row[3][0].replace('.O', '').replace('.', '')\n",
    "        start_price = float(row[522][4].replace(',', ''))\n",
    "        end_price = float(row[19][1].replace(',', ''))\n",
    "        percent_gain = ((end_price - start_price) / start_price) * 100\n",
    "        actual_gain = percent_gain * 100000\n",
    "\n",
    "        print([ticker, start_price, end_price, percent_gain, actual_gain])\n",
    "\n",
    "        data.append([ticker, start_price, end_price, percent_gain, actual_gain])"
   ]
  },
  {
   "cell_type": "code",
   "execution_count": 48,
   "metadata": {},
   "outputs": [],
   "source": [
    "with open('../data/outputs/historical_returns.csv', 'w', newline=\"\") as f:\n",
    "    writer = csv.writer(f)\n",
    "\n",
    "    header = ['Ticker', 'Start Price on 11/15/19 ($)', 'End Price on 11/15/21 ($)', 'Percent Gain (%)', 'Actual Gain ($)']\n",
    "    writer.writerow(header)\n",
    "\n",
    "    for row in data:\n",
    "        writer.writerow(row)"
   ]
  }
 ],
 "metadata": {
  "interpreter": {
   "hash": "f92044c759060aa9415554cca52d08b8cabe1752aed1786f0486d8d814e0857f"
  },
  "kernelspec": {
   "display_name": "Python 3.8.8 64-bit ('base': conda)",
   "language": "python",
   "name": "python3"
  },
  "language_info": {
   "codemirror_mode": {
    "name": "ipython",
    "version": 3
   },
   "file_extension": ".py",
   "mimetype": "text/x-python",
   "name": "python",
   "nbconvert_exporter": "python",
   "pygments_lexer": "ipython3",
   "version": "3.8.8"
  },
  "orig_nbformat": 4
 },
 "nbformat": 4,
 "nbformat_minor": 2
}
