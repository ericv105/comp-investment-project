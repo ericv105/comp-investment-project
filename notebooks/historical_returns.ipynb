{
 "cells": [
  {
   "cell_type": "code",
   "execution_count": 36,
   "metadata": {},
   "outputs": [],
   "source": [
    "import csv\n",
    "import os\n",
    "from datetime import datetime"
   ]
  },
  {
   "cell_type": "code",
   "execution_count": 37,
   "metadata": {},
   "outputs": [],
   "source": [
    "price_dir = '../data/price_data'\n",
    "\n",
    "for file in os.listdir(price_dir):\n",
    "    data = []\n",
    "\n",
    "    with open(os.path.join(price_dir, file), 'r') as f:\n",
    "        data_csv = csv.reader(f)\n",
    "        row = list(data_csv)\n",
    "\n",
    "        ticker = row[3][0].replace('.O', '').replace('.', '')\n",
    "\n",
    "        curr_month = 11\n",
    "        for line in row[30:534]:\n",
    "            date = datetime.strptime(line[0], '%d-%b-%Y').date()\n",
    "            if curr_month != date.month:\n",
    "                \n",
    "                start_price = float(row[557][4].replace(',', ''))\n",
    "                end_price = float(line[1].replace(',', ''))\n",
    "                percent_gain = ((end_price - start_price) / start_price) * 100\n",
    "                ending_balance = round((percent_gain/100) * 100000,2)\n",
    "                gain = round(ending_balance - 100000, 2)\n",
    "\n",
    "                data.append([date, end_price, start_price, percent_gain, gain, ending_balance])\n",
    "                curr_month = date.month\n",
    "\n",
    "        with open('../data/outputs/historical_returns/' + ticker + '.csv', 'w', newline=\"\") as f:\n",
    "            writer = csv.writer(f)\n",
    "\n",
    "            header = ['Date', 'End Price ($)', 'Price Purchased At ($)', 'Percent Gain (%)', 'Gain ($)' 'Ending Balance (percent * $100000 budget)',]\n",
    "            writer.writerow(header)\n",
    "\n",
    "            for row in data:\n",
    "                writer.writerow(row)"
   ]
  },
  {
   "cell_type": "code",
   "execution_count": null,
   "metadata": {},
   "outputs": [],
   "source": []
  }
 ],
 "metadata": {
  "interpreter": {
   "hash": "f92044c759060aa9415554cca52d08b8cabe1752aed1786f0486d8d814e0857f"
  },
  "kernelspec": {
   "display_name": "Python 3.8.8 64-bit ('base': conda)",
   "language": "python",
   "name": "python3"
  },
  "language_info": {
   "codemirror_mode": {
    "name": "ipython",
    "version": 3
   },
   "file_extension": ".py",
   "mimetype": "text/x-python",
   "name": "python",
   "nbconvert_exporter": "python",
   "pygments_lexer": "ipython3",
   "version": "3.9.7"
  },
  "orig_nbformat": 4
 },
 "nbformat": 4,
 "nbformat_minor": 2
}
